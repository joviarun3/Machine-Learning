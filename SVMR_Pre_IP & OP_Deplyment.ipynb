{
 "cells": [
  {
   "cell_type": "code",
   "execution_count": 1,
   "id": "2fbcd889-8666-4a17-b8c4-d8ab1f8a9871",
   "metadata": {},
   "outputs": [],
   "source": [
    "import pickle\n",
    "loaded_model=pickle.load(open(\"finalized_model.sav\", 'rb'))\n",
    "load_pre_processedX=pickle.load(open(\"preprocessedX.sav\", 'rb'))\n",
    "load_pre_processedy=pickle.load(open(\"preprocessedy.sav\", 'rb'))"
   ]
  },
  {
   "cell_type": "code",
   "execution_count": 2,
   "id": "9607e2f6-63c5-48bb-8012-4781000807c6",
   "metadata": {},
   "outputs": [
    {
     "name": "stderr",
     "output_type": "stream",
     "text": [
      "C:\\Anaconda3\\Lib\\site-packages\\sklearn\\base.py:493: UserWarning: X does not have valid feature names, but StandardScaler was fitted with feature names\n",
      "  warnings.warn(\n"
     ]
    },
    {
     "data": {
      "text/plain": [
       "array([0.04277895])"
      ]
     },
     "execution_count": 2,
     "metadata": {},
     "output_type": "execute_result"
    }
   ],
   "source": [
    "#load_pre_processedX is a function saved from scX (i.e) standard scaler function for input data. That was used for 'fit.transform'.\n",
    "#so, it will still have the same mean_ value. It helps to maintain accuracy and consitency for new input data.\n",
    "pre_processed_input = load_pre_processedX.transform([[0,116983,45173,0,0]])\n",
    "result=loaded_model.predict(pre_processed_input)\n",
    "result"
   ]
  },
  {
   "cell_type": "code",
   "execution_count": 3,
   "id": "775cd7f4-b88d-4c46-a8d5-73a9507a4220",
   "metadata": {},
   "outputs": [
    {
     "data": {
      "text/plain": [
       "array([[112064.8404129]])"
      ]
     },
     "execution_count": 3,
     "metadata": {},
     "output_type": "execute_result"
    }
   ],
   "source": [
    "#load_pre_processedy is a function saved from scy (i.e) standard scaler function for output data. That was used for 'fit.transform'.\n",
    "#so, it will still have the same mean_ value. It helps to maintain accuracy and consitency for new output data.\n",
    "inversed_result=load_pre_processedy.inverse_transform([result])\n",
    "inversed_result"
   ]
  },
  {
   "cell_type": "code",
   "execution_count": null,
   "id": "aed593a8-fa72-4a1a-8b93-645db1e1e26d",
   "metadata": {},
   "outputs": [],
   "source": []
  }
 ],
 "metadata": {
  "kernelspec": {
   "display_name": "Python 3 (ipykernel)",
   "language": "python",
   "name": "python3"
  },
  "language_info": {
   "codemirror_mode": {
    "name": "ipython",
    "version": 3
   },
   "file_extension": ".py",
   "mimetype": "text/x-python",
   "name": "python",
   "nbconvert_exporter": "python",
   "pygments_lexer": "ipython3",
   "version": "3.12.7"
  }
 },
 "nbformat": 4,
 "nbformat_minor": 5
}
