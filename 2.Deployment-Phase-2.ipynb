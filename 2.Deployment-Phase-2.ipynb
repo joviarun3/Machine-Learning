{
 "cells": [
  {
   "cell_type": "code",
   "execution_count": 6,
   "id": "2726e6d9-e73a-4c07-bd11-3877004a12a7",
   "metadata": {},
   "outputs": [
    {
     "name": "stderr",
     "output_type": "stream",
     "text": [
      "C:\\Anaconda3\\Lib\\site-packages\\sklearn\\base.py:493: UserWarning: X does not have valid feature names, but LinearRegression was fitted with feature names\n",
      "  warnings.warn(\n"
     ]
    },
    {
     "data": {
      "text/plain": [
       "array([[73578.69777217]])"
      ]
     },
     "execution_count": 6,
     "metadata": {},
     "output_type": "execute_result"
    }
   ],
   "source": [
    "#we have the model ready in the same directory. Just load the model and see the result by entering input 9i.e) X - Years of Experience\n",
    "#if you give 0 then, y=w[0]+b --> it will return the value of b. that is called bias or initial value or origin.\n",
    "#use load function from pickle library and assign it to the variable 'result'.\n",
    "import pickle\n",
    "loaded_model=pickle.load(open(\"finalized_model_linear.sav\", 'rb'))#rb is read binary\n",
    "result=loaded_model.predict([[5]])\n",
    "result"
   ]
  },
  {
   "cell_type": "code",
   "execution_count": null,
   "id": "fadc351e-4c5f-4625-87c8-b7818df41021",
   "metadata": {},
   "outputs": [],
   "source": []
  }
 ],
 "metadata": {
  "kernelspec": {
   "display_name": "Python 3 (ipykernel)",
   "language": "python",
   "name": "python3"
  },
  "language_info": {
   "codemirror_mode": {
    "name": "ipython",
    "version": 3
   },
   "file_extension": ".py",
   "mimetype": "text/x-python",
   "name": "python",
   "nbconvert_exporter": "python",
   "pygments_lexer": "ipython3",
   "version": "3.12.7"
  }
 },
 "nbformat": 4,
 "nbformat_minor": 5
}
